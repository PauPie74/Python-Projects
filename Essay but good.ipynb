{
 "cells": [
  {
   "cell_type": "markdown",
   "id": "3259bb3a",
   "metadata": {},
   "source": [
    "# Fiction versus Nonfiction: The linguistic analysis of \"The Wreck of the Titan\" and \"A Night to Remember\""
   ]
  },
  {
   "cell_type": "markdown",
   "id": "7f7fc2e8",
   "metadata": {},
   "source": [
    "---"
   ]
  },
  {
   "cell_type": "markdown",
   "id": "5ad7a575",
   "metadata": {},
   "source": [
    "<h2>Table of contents</h2>\n",
    "<ol>\n",
    "    <li>Introduction</li>\n",
    "    <li>Preparation of texts</li>\n",
    "    <li>Linguistic Analysis</li>\n",
    "    <ol>\n",
    "        <li>Most frequent words</li>\n",
    "        <li>Concordance</li>\n",
    "        <li>Lexical Dispersion</li>\n",
    "        <li>POS Tagging</li>\n",
    "        <li>Entity Recognition</li>\n",
    "    </ol>\n",
    "    <li> Conclusion</li>\n",
    "    <li>Packages used</li>\n",
    "</ol>"
   ]
  },
  {
   "cell_type": "markdown",
   "id": "faf2645e",
   "metadata": {},
   "source": [
    "---"
   ]
  },
  {
   "cell_type": "markdown",
   "id": "ba683ea8",
   "metadata": {},
   "source": [
    "## Introduction"
   ]
  },
  {
   "cell_type": "markdown",
   "id": "2aef96c5",
   "metadata": {},
   "source": [
    "The RMS Titanic left Southampton on April 10th 1912 bound for New York. Unfortunately, on April 14th 1912 at 23:40 struck an iceberg and sunk 2 hours and 40 minutes later. Nowadays, it is the most well-known maritime disaster. There are a couple of reasons why: it was the sinking with the most amount of casualties during peacetime, she sunk on her maiden voyage with very prestigious passengers onboard and her sinking made the authorities change regulations of maritime transport."
   ]
  },
  {
   "cell_type": "markdown",
   "id": "b3619a1f",
   "metadata": {},
   "source": [
    "<img src = \"https://upload.wikimedia.org/wikipedia/commons/8/86/Titanic_Ireland.jpg\" width =\"50%\">"
   ]
  },
  {
   "cell_type": "markdown",
   "id": "166c2101",
   "metadata": {},
   "source": [
    "During the war, there were plenty of deadlier sinkings with casualties number being even tenfolds higher. It is commonly thought that the Titanic was the biggest and most luxurious ship at that time but it is only half-true. The Titanic had an older sistership with the same dimensions but lower tonnage. The departure of the Titanic was also not as big of an event as it is usually shown. However, the sinking made her famous and the media keep her story alive.\n",
    "\n",
    "The most widely known is the film \"Titanic\" from 1997. For some time it was the highest-grossing film, even today it is still on the list."
   ]
  },
  {
   "cell_type": "code",
   "execution_count": 1,
   "id": "20cb10af",
   "metadata": {},
   "outputs": [],
   "source": [
    "# Getting a table from Wikipedia\n",
    "from bs4 import BeautifulSoup\n",
    "import requests\n",
    "import pandas as pd\n",
    "import re\n",
    "\n",
    "url_f=\"https://en.wikipedia.org/wiki/List_of_highest-grossing_films\"\n",
    "html_content_f = requests.get(url_f).text\n",
    "soup_f = BeautifulSoup(html_content_f, \"lxml\")\n",
    "\n",
    "gdp_f = soup_f.find_all(\"table\", attrs={\"class\": \"wikitable\"})"
   ]
  },
  {
   "cell_type": "code",
   "execution_count": 2,
   "id": "d2583ace",
   "metadata": {},
   "outputs": [],
   "source": [
    "table1 = gdp_f[0]\n",
    "body_f = table1.find_all(\"tr\")\n",
    "head_f = body_f[0]\n",
    "body_rows_f = body_f[1:]\n",
    "\n",
    "headings_f = []\n",
    "for item_f in head_f.find_all(\"th\"):\n",
    "    item_f = (item_f.text).rstrip(\"\\n\")\n",
    "    headings_f.append(item_f)"
   ]
  },
  {
   "cell_type": "code",
   "execution_count": 262,
   "id": "e0fe1a38",
   "metadata": {},
   "outputs": [
    {
     "name": "stdout",
     "output_type": "stream",
     "text": [
      "Highest Grossing Films\n"
     ]
    },
    {
     "data": {
      "text/html": [
       "<div>\n",
       "<style scoped>\n",
       "    .dataframe tbody tr th:only-of-type {\n",
       "        vertical-align: middle;\n",
       "    }\n",
       "\n",
       "    .dataframe tbody tr th {\n",
       "        vertical-align: top;\n",
       "    }\n",
       "\n",
       "    .dataframe thead th {\n",
       "        text-align: right;\n",
       "    }\n",
       "</style>\n",
       "<table border=\"1\" class=\"dataframe\">\n",
       "  <thead>\n",
       "    <tr style=\"text-align: right;\">\n",
       "      <th></th>\n",
       "      <th>Rank</th>\n",
       "      <th>Peak</th>\n",
       "      <th>Title</th>\n",
       "      <th>Worldwide gross</th>\n",
       "      <th>Year</th>\n",
       "      <th>Reference(s)</th>\n",
       "    </tr>\n",
       "  </thead>\n",
       "  <tbody>\n",
       "    <tr>\n",
       "      <th>0</th>\n",
       "      <td>1</td>\n",
       "      <td>1</td>\n",
       "      <td>Avatar</td>\n",
       "      <td>$2847246203</td>\n",
       "      <td>2009</td>\n",
       "      <td>[# 1][# 2]</td>\n",
       "    </tr>\n",
       "    <tr>\n",
       "      <th>1</th>\n",
       "      <td>2</td>\n",
       "      <td>1</td>\n",
       "      <td>Avengers: Endgame</td>\n",
       "      <td>$2797501328</td>\n",
       "      <td>2019</td>\n",
       "      <td>[# 3][# 4]</td>\n",
       "    </tr>\n",
       "    <tr>\n",
       "      <th>2</th>\n",
       "      <td>3</td>\n",
       "      <td>1</td>\n",
       "      <td>Titanic</td>\n",
       "      <td>$2187425379</td>\n",
       "      <td>1997</td>\n",
       "      <td>[# 5][# 6]</td>\n",
       "    </tr>\n",
       "    <tr>\n",
       "      <th>3</th>\n",
       "      <td>4</td>\n",
       "      <td>3</td>\n",
       "      <td>Star Wars: The Force Awakens</td>\n",
       "      <td>$2068223624</td>\n",
       "      <td>2015</td>\n",
       "      <td>[# 7][# 8]</td>\n",
       "    </tr>\n",
       "    <tr>\n",
       "      <th>4</th>\n",
       "      <td>5</td>\n",
       "      <td>4</td>\n",
       "      <td>Avengers: Infinity War</td>\n",
       "      <td>$2048359754</td>\n",
       "      <td>2018</td>\n",
       "      <td>[# 9][# 10]</td>\n",
       "    </tr>\n",
       "  </tbody>\n",
       "</table>\n",
       "</div>"
      ],
      "text/plain": [
       "  Rank Peak                         Title Worldwide gross  Year Reference(s)\n",
       "0    1    1                        Avatar     $2847246203  2009   [# 1][# 2]\n",
       "1    2    1             Avengers: Endgame     $2797501328  2019   [# 3][# 4]\n",
       "2    3    1                       Titanic     $2187425379  1997   [# 5][# 6]\n",
       "3    4    3  Star Wars: The Force Awakens     $2068223624  2015   [# 7][# 8]\n",
       "4    5    4        Avengers: Infinity War     $2048359754  2018  [# 9][# 10]"
      ]
     },
     "execution_count": 262,
     "metadata": {},
     "output_type": "execute_result"
    }
   ],
   "source": [
    "all_rows_f = []\n",
    "for row_num in range(10):\n",
    "    row_f = []\n",
    "    for row_item_f in body_rows_f[row_num].find_all([\"td\",\"th\"]):\n",
    "        af = re.sub(\"(\\xa0)|(\\n)|,\",\"\",row_item_f.text)\n",
    "        row_f.append(af)\n",
    "    all_rows_f.append(row_f)\n",
    "\n",
    "print(\"Highest Grossing Films\")\n",
    "df = pd.DataFrame(data=all_rows_f,columns=headings_f)\n",
    "df.head()"
   ]
  },
  {
   "cell_type": "markdown",
   "id": "aa5ed2d7",
   "metadata": {},
   "source": [
    "\"Titanic\" directed by James Cameron is hardly the first to tell the story of the doom of the Titanic. There were many other attempts to capture the events of this unlucky voyage. The book which is known by every Titanic enthusiast called **\"A Night to Remember\"** basically 'revived' the Titanic after the wars and made her story resurfaced."
   ]
  },
  {
   "cell_type": "markdown",
   "id": "3fde9f22",
   "metadata": {},
   "source": [
    "<img src = \"https://images-na.ssl-images-amazon.com/images/I/71tYqRZXzgL.jpg\" width=\"30%\">"
   ]
  },
  {
   "cell_type": "code",
   "execution_count": 4,
   "id": "9092346e",
   "metadata": {},
   "outputs": [
    {
     "name": "stdout",
     "output_type": "stream",
     "text": [
      "A Night to Remember\n"
     ]
    },
    {
     "data": {
      "text/html": [
       "<div>\n",
       "<style scoped>\n",
       "    .dataframe tbody tr th:only-of-type {\n",
       "        vertical-align: middle;\n",
       "    }\n",
       "\n",
       "    .dataframe tbody tr th {\n",
       "        vertical-align: top;\n",
       "    }\n",
       "\n",
       "    .dataframe thead th {\n",
       "        text-align: right;\n",
       "    }\n",
       "</style>\n",
       "<table border=\"1\" class=\"dataframe\">\n",
       "  <thead>\n",
       "    <tr style=\"text-align: right;\">\n",
       "      <th></th>\n",
       "      <th>0</th>\n",
       "      <th>1</th>\n",
       "    </tr>\n",
       "  </thead>\n",
       "  <tbody>\n",
       "    <tr>\n",
       "      <th>0</th>\n",
       "      <td>Author</td>\n",
       "      <td>Walter Lord</td>\n",
       "    </tr>\n",
       "    <tr>\n",
       "      <th>1</th>\n",
       "      <td>Country</td>\n",
       "      <td>United States</td>\n",
       "    </tr>\n",
       "    <tr>\n",
       "      <th>2</th>\n",
       "      <td>Language</td>\n",
       "      <td>English</td>\n",
       "    </tr>\n",
       "    <tr>\n",
       "      <th>3</th>\n",
       "      <td>Subject</td>\n",
       "      <td>Sinking of the RMS Titanic</td>\n",
       "    </tr>\n",
       "    <tr>\n",
       "      <th>4</th>\n",
       "      <td>Genre</td>\n",
       "      <td>History</td>\n",
       "    </tr>\n",
       "  </tbody>\n",
       "</table>\n",
       "</div>"
      ],
      "text/plain": [
       "          0                           1\n",
       "0    Author                 Walter Lord\n",
       "1   Country               United States\n",
       "2  Language                     English\n",
       "3   Subject  Sinking of the RMS Titanic\n",
       "4     Genre                     History"
      ]
     },
     "execution_count": 4,
     "metadata": {},
     "output_type": "execute_result"
    }
   ],
   "source": [
    "# Getting an infobox from Wikipedia about \"A Night to Remember\"\n",
    "from bs4 import BeautifulSoup\n",
    "import requests\n",
    "import pandas as pd\n",
    "import re\n",
    "\n",
    "url=\"https://en.wikipedia.org/wiki/A_Night_to_Remember_(book)\"\n",
    "html_content = requests.get(url).text\n",
    "soup = BeautifulSoup(html_content, \"lxml\")\n",
    "\n",
    "gdp = soup.find_all(\"table\", attrs={\"class\": \"infobox\"})\n",
    "\n",
    "table2 = gdp[0]\n",
    "body = table2.find_all(\"tr\")\n",
    "head = body[0]\n",
    "body_rows = body[1:]\n",
    "\n",
    "all_rows = []\n",
    "for row_num in range(len(body_rows)):\n",
    "    row = []\n",
    "    for row_item in body_rows[row_num].find_all([\"td\",\"th\"]):\n",
    "        aa = re.sub(\"(\\xa0)|(\\n)|,\",\"\",row_item.text)\n",
    "        row.append(aa)\n",
    "    all_rows.append(row)\n",
    "\n",
    "print(\"A Night to Remember\")\n",
    "df = pd.DataFrame(data=all_rows)\n",
    "df.head()"
   ]
  },
  {
   "cell_type": "markdown",
   "id": "44290ce4",
   "metadata": {},
   "source": [
    "**\"A Night to Remember\"** by Walter Lord is a book based on actual events. The author interviewed the survivors to provide an account of the events. Since the publication of the book, a lot of new facts came to light (e.g. the breakage of the ship - not confirmed until 1988, thus not included in the book) but it is still one of the most read books about the disaster.\n",
    "\n",
    "Interestingly, there is a fictional novella that is often claimed to foretold the disaster. **\"The Wreck of the Titan: Or, Futility\"** by Morgan Robertson was published in 1898, 14 years before the Titanic disaster. It tells the story of a man who boarded the ship called \"Titan\" which was the biggest ship in the world and was thought to be indesctructible. However, Titan struck an iceberg and sunk. As it can be seen on the cover below, this supposed foretelling of the disaster is used as a marketing ploy."
   ]
  },
  {
   "cell_type": "markdown",
   "id": "b38d2695",
   "metadata": {},
   "source": [
    "<img src = \"https://images-na.ssl-images-amazon.com/images/I/81h2iF3h1EL.jpg\" width =\"30%\">"
   ]
  },
  {
   "cell_type": "code",
   "execution_count": 5,
   "id": "51493e5b",
   "metadata": {},
   "outputs": [
    {
     "name": "stdout",
     "output_type": "stream",
     "text": [
      "The Wreck of the Titan: Or, Futility\n"
     ]
    },
    {
     "data": {
      "text/html": [
       "<div>\n",
       "<style scoped>\n",
       "    .dataframe tbody tr th:only-of-type {\n",
       "        vertical-align: middle;\n",
       "    }\n",
       "\n",
       "    .dataframe tbody tr th {\n",
       "        vertical-align: top;\n",
       "    }\n",
       "\n",
       "    .dataframe thead th {\n",
       "        text-align: right;\n",
       "    }\n",
       "</style>\n",
       "<table border=\"1\" class=\"dataframe\">\n",
       "  <thead>\n",
       "    <tr style=\"text-align: right;\">\n",
       "      <th></th>\n",
       "      <th>0</th>\n",
       "      <th>1</th>\n",
       "    </tr>\n",
       "  </thead>\n",
       "  <tbody>\n",
       "    <tr>\n",
       "      <th>0</th>\n",
       "      <td>Author</td>\n",
       "      <td>Morgan Robertson</td>\n",
       "    </tr>\n",
       "    <tr>\n",
       "      <th>1</th>\n",
       "      <td>Country</td>\n",
       "      <td>United States</td>\n",
       "    </tr>\n",
       "    <tr>\n",
       "      <th>2</th>\n",
       "      <td>Language</td>\n",
       "      <td>English</td>\n",
       "    </tr>\n",
       "    <tr>\n",
       "      <th>3</th>\n",
       "      <td>Publication type</td>\n",
       "      <td>Novella</td>\n",
       "    </tr>\n",
       "    <tr>\n",
       "      <th>4</th>\n",
       "      <td>Publication date</td>\n",
       "      <td>1898</td>\n",
       "    </tr>\n",
       "  </tbody>\n",
       "</table>\n",
       "</div>"
      ],
      "text/plain": [
       "                  0                 1\n",
       "0            Author  Morgan Robertson\n",
       "1           Country     United States\n",
       "2          Language           English\n",
       "3  Publication type           Novella\n",
       "4  Publication date              1898"
      ]
     },
     "execution_count": 5,
     "metadata": {},
     "output_type": "execute_result"
    }
   ],
   "source": [
    "# Getting an infobox from Wikipedia about \"The Wreck of the Titan\"\n",
    "from bs4 import BeautifulSoup\n",
    "import requests\n",
    "import pandas as pd\n",
    "import re\n",
    "\n",
    "url=\"https://en.wikipedia.org/wiki/The_Wreck_of_the_Titan:_Or,_Futility\"\n",
    "html_content = requests.get(url).text\n",
    "soup = BeautifulSoup(html_content, \"lxml\")\n",
    "\n",
    "gdp = soup.find_all(\"table\", attrs={\"class\": \"infobox\"})\n",
    "\n",
    "table2 = gdp[0]\n",
    "body = table2.find_all(\"tr\")\n",
    "head = body[0]\n",
    "body_rows = body[1:]\n",
    "\n",
    "all_rows = []\n",
    "for row_num in range(len(body_rows)):\n",
    "    row = []\n",
    "    for row_item in body_rows[row_num].find_all([\"td\",\"th\"]):\n",
    "        aa = re.sub(\"(\\xa0)|(\\n)|,\",\"\",row_item.text)\n",
    "        row.append(aa)\n",
    "    all_rows.append(row)\n",
    "\n",
    "print(\"The Wreck of the Titan: Or, Futility\")\n",
    "df = pd.DataFrame(data=all_rows)\n",
    "df.head()"
   ]
  },
  {
   "cell_type": "markdown",
   "id": "e09396a3",
   "metadata": {},
   "source": [
    "---"
   ]
  },
  {
   "cell_type": "markdown",
   "id": "68872522",
   "metadata": {},
   "source": [
    "## Preparation of texts"
   ]
  },
  {
   "cell_type": "markdown",
   "id": "b931fdb7",
   "metadata": {},
   "source": [
    "**\"The Wreck of the Titan\"** is available on <a href=\"https://www.gutenberg.org/files/24880/24880-h/24880-h.htm\">Project Gutenberg</a> and was loaded from the website using *requests* and *BeautifulSoup*.\n",
    "\n",
    "**\"A Night to Remember\"** was converted into a .txt format and opened from my disk using an *open* function. \n",
    "\n",
    "Both texts were tokenized with *nltk.tokenize* package. The stopwords were removed using *nltk.corpus.stopwords.words* function. Also, module *Text* from the *nltk* package was used to prepare texts for some points of the analysis."
   ]
  },
  {
   "cell_type": "code",
   "execution_count": 189,
   "id": "15711827",
   "metadata": {},
   "outputs": [
    {
     "data": {
      "text/plain": [
       "['the', 'project', 'gutenberg', 'ebook', 'of', 'the', 'wreck', 'of']"
      ]
     },
     "execution_count": 189,
     "metadata": {},
     "output_type": "execute_result"
    }
   ],
   "source": [
    "#The Wreck of the Titan\n",
    "\n",
    "from nltk.tokenize import RegexpTokenizer\n",
    "import requests\n",
    "from bs4 import BeautifulSoup\n",
    "import re\n",
    "\n",
    "url_titan = \"https://www.gutenberg.org/files/24880/24880-h/24880-h.htm\"\n",
    "\n",
    "r_titan = requests.get(url_titan)\n",
    "html_titan = r_titan.text\n",
    "\n",
    "soup_titan = BeautifulSoup(html_titan, \"html5lib\")\n",
    "titan_text = soup_titan.get_text()\n",
    "\n",
    "\n",
    "tokenizer_titan = RegexpTokenizer('\\w+')\n",
    "\n",
    "tokens_titan = tokenizer_titan.tokenize(titan_text)\n",
    "words_titan = []\n",
    "\n",
    "for word in tokens_titan:\n",
    "    words_titan.append(word.lower())\n",
    "\n",
    "words_titan[:8]"
   ]
  },
  {
   "cell_type": "code",
   "execution_count": 12,
   "id": "4ac7bfb5",
   "metadata": {},
   "outputs": [
    {
     "data": {
      "text/plain": [
       "['i', 'me', 'my', 'myself', 'we']"
      ]
     },
     "execution_count": 12,
     "metadata": {},
     "output_type": "execute_result"
    }
   ],
   "source": [
    "# Removing the obstructiong stopwords\n",
    "\n",
    "import nltk\n",
    "sw = nltk.corpus.stopwords.words('english')\n",
    "sw[:5]"
   ]
  },
  {
   "cell_type": "code",
   "execution_count": 13,
   "id": "c8511992",
   "metadata": {},
   "outputs": [
    {
     "data": {
      "text/plain": [
       "['project', 'gutenberg', 'ebook', 'wreck', 'titan']"
      ]
     },
     "execution_count": 13,
     "metadata": {},
     "output_type": "execute_result"
    }
   ],
   "source": [
    "words_ns_titan = []\n",
    "\n",
    "for word in words_titan:\n",
    "    if word not in sw:\n",
    "        words_ns_titan.append(word)\n",
    "\n",
    "words_ns_titan[:5]"
   ]
  },
  {
   "cell_type": "code",
   "execution_count": 54,
   "id": "ebad1a9e",
   "metadata": {},
   "outputs": [],
   "source": [
    "from nltk import Text\n",
    "\n",
    "t_titan = nltk.Text(tokens_titan)"
   ]
  },
  {
   "cell_type": "code",
   "execution_count": 69,
   "id": "4bcfc23d",
   "metadata": {},
   "outputs": [],
   "source": [
    "# A Night to Rememeber\n",
    "\n",
    "file = open(r'C:\\Users\\paupi\\OneDrive - University of Gdansk (for Students)\\Dokumenty\\a-night-to-remember.txt', encoding=\"utf8\")\n",
    "antr = file.read()"
   ]
  },
  {
   "cell_type": "code",
   "execution_count": 70,
   "id": "cbdddabd",
   "metadata": {},
   "outputs": [
    {
     "data": {
      "text/plain": [
       "58695"
      ]
     },
     "execution_count": 70,
     "metadata": {},
     "output_type": "execute_result"
    }
   ],
   "source": [
    "import nltk\n",
    "from nltk import word_tokenize\n",
    "\n",
    "tokens_antr = word_tokenize(antr)\n",
    "words_antr = [w.lower() for w in tokens_antr]\n",
    "len(tokens_antr)"
   ]
  },
  {
   "cell_type": "code",
   "execution_count": 71,
   "id": "d1e82918",
   "metadata": {},
   "outputs": [],
   "source": [
    "text_antr = nltk.Text(tokens_antr)"
   ]
  },
  {
   "cell_type": "code",
   "execution_count": 72,
   "id": "15cd015f",
   "metadata": {},
   "outputs": [
    {
     "data": {
      "text/plain": [
       "['a-night-to-remember.txt']"
      ]
     },
     "execution_count": 72,
     "metadata": {},
     "output_type": "execute_result"
    }
   ],
   "source": [
    "from nltk.corpus import PlaintextCorpusReader\n",
    "corpus_root = r'C:\\Users\\paupi\\OneDrive - University of Gdansk (for Students)\\Dokumenty'\n",
    "f_antr = PlaintextCorpusReader(corpus_root, 'a-night-to-remember.txt')\n",
    "f_antr.fileids()"
   ]
  },
  {
   "cell_type": "code",
   "execution_count": 73,
   "id": "91cb1f9c",
   "metadata": {},
   "outputs": [],
   "source": [
    "w_antr = f_antr.words()"
   ]
  },
  {
   "cell_type": "code",
   "execution_count": 74,
   "id": "92f4627a",
   "metadata": {},
   "outputs": [
    {
     "data": {
      "text/plain": [
       "['there', 'are', 'certain', 'episodes', 'in', 'the', 'past', 'which']"
      ]
     },
     "execution_count": 74,
     "metadata": {},
     "output_type": "execute_result"
    }
   ],
   "source": [
    "from nltk.tokenize import RegexpTokenizer\n",
    "import re\n",
    "\n",
    "tokenizer = RegexpTokenizer('\\w+')\n",
    "\n",
    "tokens_antr = tokenizer.tokenize(antr)\n",
    "words_antr = []\n",
    "\n",
    "for word in tokens_antr:\n",
    "    words_antr.append(word.lower())\n",
    "\n",
    "words_antr[:8]"
   ]
  },
  {
   "cell_type": "code",
   "execution_count": 75,
   "id": "95969e4d",
   "metadata": {},
   "outputs": [
    {
     "data": {
      "text/plain": [
       "['i', 'me', 'my', 'myself', 'we']"
      ]
     },
     "execution_count": 75,
     "metadata": {},
     "output_type": "execute_result"
    }
   ],
   "source": [
    "# Removing the obstructiong stopwords\n",
    "\n",
    "import nltk\n",
    "\n",
    "sw = nltk.corpus.stopwords.words('english')\n",
    "sw[:5]"
   ]
  },
  {
   "cell_type": "code",
   "execution_count": 76,
   "id": "bcc4dc06",
   "metadata": {},
   "outputs": [
    {
     "data": {
      "text/plain": [
       "['certain', 'episodes', 'past', 'fix', 'like']"
      ]
     },
     "execution_count": 76,
     "metadata": {},
     "output_type": "execute_result"
    }
   ],
   "source": [
    "words_ns_antr = []\n",
    "\n",
    "for word in words_antr:\n",
    "    if word not in sw:\n",
    "        words_ns_antr.append(word)\n",
    "\n",
    "words_ns_antr[:5]"
   ]
  },
  {
   "cell_type": "markdown",
   "id": "2890906e",
   "metadata": {},
   "source": [
    "---"
   ]
  },
  {
   "cell_type": "markdown",
   "id": "6b8a5e88",
   "metadata": {},
   "source": [
    "## Linguistic Analysis"
   ]
  },
  {
   "cell_type": "markdown",
   "id": "55989b32",
   "metadata": {},
   "source": [
    "The following analysis aims to lingusitically compare two texts: **\"The Wreck of the Titan\"**, which is a fictional story involving a sinking of a ship, and **\"A Night to Remember\"**, which is based on the real disaster of the Titanic.\n",
    "The analysis presents the most frequent words of both texts, concordance of chosen words, as well as their lexical dispersion. The texts were POS-tagged and the entities were recognized to better compare the texts."
   ]
  },
  {
   "cell_type": "markdown",
   "id": "e14881ea",
   "metadata": {},
   "source": [
    "### Most frequent words"
   ]
  },
  {
   "cell_type": "markdown",
   "id": "d9c6a5c7",
   "metadata": {},
   "source": [
    "By using *FreqDist* from *nltk* packages the list of most common words in both texts was extracted and then turned into a line chart."
   ]
  },
  {
   "cell_type": "code",
   "execution_count": 162,
   "id": "07658e70",
   "metadata": {
    "scrolled": false
   },
   "outputs": [
    {
     "name": "stdout",
     "output_type": "stream",
     "text": [
      "<FreqDist with 7401 samples and 37036 outcomes>\n"
     ]
    }
   ],
   "source": [
    "# The Wreck of the Titan\n",
    "freq_titan = nltk.FreqDist(words_ns_titan)\n",
    "print(freq_titan)"
   ]
  },
  {
   "cell_type": "code",
   "execution_count": 165,
   "id": "c1e11238",
   "metadata": {
    "scrolled": true
   },
   "outputs": [
    {
     "name": "stdout",
     "output_type": "stream",
     "text": [
      "<FreqDist with 5889 samples and 27477 outcomes>\n"
     ]
    }
   ],
   "source": [
    "# A Night to Remember\n",
    "\n",
    "freq_antr = nltk.FreqDist(words_ns_antr)\n",
    "print(freq_antr)"
   ]
  },
  {
   "cell_type": "code",
   "execution_count": 163,
   "id": "5aac2d42",
   "metadata": {
    "scrolled": true
   },
   "outputs": [
    {
     "data": {
      "text/plain": [
       "[('denman', 340),\n",
       " ('said', 317),\n",
       " ('one', 264),\n",
       " ('forsythe', 245),\n",
       " ('deck', 210),\n",
       " ('man', 202),\n",
       " ('jenkins', 185),\n",
       " ('boat', 174),\n",
       " ('would', 157),\n",
       " ('could', 150),\n",
       " ('two', 148),\n",
       " ('back', 135),\n",
       " ('answered', 131),\n",
       " ('florrie', 128),\n",
       " ('came', 126),\n",
       " ('rowland', 126),\n",
       " ('went', 126),\n",
       " ('captain', 126),\n",
       " ('mr', 124),\n",
       " ('sampson', 121),\n",
       " ('men', 118),\n",
       " ('room', 115),\n",
       " ('know', 114),\n",
       " ('face', 111),\n",
       " ('get', 107)]"
      ]
     },
     "execution_count": 163,
     "metadata": {},
     "output_type": "execute_result"
    }
   ],
   "source": [
    "# The Wreck of the Titan\n",
    "\n",
    "freq_titan.most_common(25)"
   ]
  },
  {
   "cell_type": "code",
   "execution_count": 261,
   "id": "7a0869e3",
   "metadata": {
    "scrolled": true
   },
   "outputs": [
    {
     "data": {
      "text/plain": [
       "[('boat', 278),\n",
       " ('deck', 258),\n",
       " ('titanic', 190),\n",
       " ('mrs', 172),\n",
       " ('ship', 159),\n",
       " ('one', 158),\n",
       " ('first', 146),\n",
       " ('time', 130),\n",
       " ('men', 123),\n",
       " ('back', 118),\n",
       " ('still', 110),\n",
       " ('class', 110),\n",
       " ('could', 104),\n",
       " ('passengers', 100),\n",
       " ('water', 98),\n",
       " ('night', 92),\n",
       " ('man', 92),\n",
       " ('people', 91),\n",
       " ('room', 90),\n",
       " ('boats', 89),\n",
       " ('way', 88),\n",
       " ('captain', 87),\n",
       " ('two', 84),\n",
       " ('new', 83),\n",
       " ('get', 83)]"
      ]
     },
     "execution_count": 261,
     "metadata": {},
     "output_type": "execute_result"
    }
   ],
   "source": [
    "# A Night to Remember\n",
    "\n",
    "freq_antr.most_common(25)"
   ]
  },
  {
   "cell_type": "code",
   "execution_count": 164,
   "id": "7cee976d",
   "metadata": {},
   "outputs": [
    {
     "data": {
      "image/png": "[encoded data removed]",
      "text/plain": [
       "<Figure size 432x288 with 1 Axes>"
      ]
     },
     "metadata": {},
     "output_type": "display_data"
    },
    {
     "data": {
      "text/plain": [
       "<AxesSubplot:xlabel='Samples', ylabel='Counts'>"
      ]
     },
     "execution_count": 164,
     "metadata": {},
     "output_type": "execute_result"
    }
   ],
   "source": [
    "# The Wreck of the Titan\n",
    "\n",
    "import matplotlib.pyplot as plt\n",
    "import seaborn as sns\n",
    "\n",
    "%matplotlib inline\n",
    "sns.set()\n",
    "\n",
    "freq_titan_line = freq_titan\n",
    "freq_titan_line.plot(25)"
   ]
  },
  {
   "cell_type": "code",
   "execution_count": 167,
   "id": "6e3938e4",
   "metadata": {
    "scrolled": true
   },
   "outputs": [
    {
     "data": {
      "image/png": "[encoded data removed]",
      "text/plain": [
       "<Figure size 432x288 with 1 Axes>"
      ]
     },
     "metadata": {},
     "output_type": "display_data"
    },
    {
     "data": {
      "text/plain": [
       "<AxesSubplot:xlabel='Samples', ylabel='Counts'>"
      ]
     },
     "execution_count": 167,
     "metadata": {},
     "output_type": "execute_result"
    }
   ],
   "source": [
    "# A Night to Remember\n",
    "\n",
    "import matplotlib.pyplot as plt\n",
    "import seaborn as sns\n",
    "\n",
    "%matplotlib inline\n",
    "sns.set()\n",
    "\n",
    "freq_antr = nltk.FreqDist(words_ns_antr)\n",
    "freq_antr.plot(25)"
   ]
  },
  {
   "cell_type": "markdown",
   "id": "f512f5b8",
   "metadata": {},
   "source": [
    "As can be seen in the above charts, in **\"The Wreck of the Titan\"**, the most frequent word is \"Denman\", who is one of the characters. Other names of characters on the 25 most frequent words list are: 3. Forsythe, 7. Jenkins, 14. Florrie, 16. Rowland, 19.Sampson, Captain also can be understrood as one of the characters.\n",
    "\n",
    "In **\"A Night to Remember\"**, most frequent are words linked to the ship: boat, deck, Titanic, ship."
   ]
  },
  {
   "cell_type": "markdown",
   "id": "40acca3a",
   "metadata": {},
   "source": [
    "### Concordance"
   ]
  },
  {
   "cell_type": "code",
   "execution_count": 193,
   "id": "043a1693",
   "metadata": {
    "scrolled": true
   },
   "outputs": [
    {
     "name": "stdout",
     "output_type": "stream",
     "text": [
      "Displaying 25 of 126 matches:\n",
      " cabin abaft the chart room was the captain the commander who never commanded u\n",
      "compartments pushed a button marked Captain s Room and crouched down awaiting t\n",
      "rder In the chart room he found the captain of the Titan pale faced and intense\n",
      "hands which they had just shown the captain dry Every face from the captain s d\n",
      "the captain dry Every face from the captain s down wore a look of horror and ex\n",
      "steerage Is that man back asked the captain Another watchman appeared as he spo\n",
      " the forecastles Very well said the captain rising one by one come into my offi\n",
      "eappearing When Rowland entered the captain seated at a desk motioned him to a \n",
      "s name John Rowland he answered The captain wrote it down I understand he said \n",
      "nots an hour in a thick fog sir The captain glanced sharply at Rowland and frow\n",
      "any and help no one On the contrary captain I shall not receive it On the contr\n",
      "murder at the first opportunity The captain leaned back and stared at the debau\n",
      " know of the power vested in you as captain I know that you can order me into i\n",
      "families Both men had risen and the captain was pacing the floor as Rowland wit\n",
      " bitter self contemptuous laugh The captain reached down a decanter and two gla\n",
      "as he poured out a glassful and the captain followed I will drink with you Rowl\n",
      "waited said I prefer drinking alone captain and drank the whisky at a gulp The \n",
      " and drank the whisky at a gulp The captain s face flushed at the affront but h\n",
      "er when relieved at eight bells the captain said He is a broken down wreck with\n",
      "out in sight of his watchmates Well captain he thought you are in truth about a\n",
      "eader to warm his stomach while the captain was studying CHAPTER V An incident \n",
      "or may become Ten minutes later the captain in his office was listening to a co\n",
      " woman And you say colonel said the captain that this man Rowland is an old ene\n",
      "hink the man should be confined Why captain said the woman vehemently as she hu\n",
      "urself no uneasiness madam said the captain gravely I have already learned some\n"
     ]
    }
   ],
   "source": [
    "# The Wreck of the Titan - concordance of \"captain\"\n",
    "t_titan.concordance('captain')"
   ]
  },
  {
   "cell_type": "code",
   "execution_count": 191,
   "id": "82f21ed7",
   "metadata": {
    "scrolled": true
   },
   "outputs": [
    {
     "name": "stdout",
     "output_type": "stream",
     "text": [
      "Displaying 25 of 86 matches:\n",
      "s not anyway realistic to exonerate Captain Smith from the decision to go faste\n",
      " by Widener ’ s father in honour of Captain Edward J. Smith , the ship ’ s comm\n",
      "mith , the ship ’ s commander . The Captain had left early , the ladies had bee\n",
      ". As the grinding noise died away , Captain Smith rushed on to the bridge from \n",
      "ian door of the chart room and told Captain Stanley Lord about it . Lord sugges\n",
      "nt second steward Wheat … once even Captain Smith . But at no point could the C\n",
      "d a good laugh . Up on the bridge , Captain Smith tried to piece the picture to\n",
      "Star , he was more than just senior captain of the line ; he was a bearded patr\n",
      " cloud over his head never moved. ’ Captain Smith was a natural leader , and on\n",
      "e . From then on all was business . Captain Smith sent Boxhall on a fast inspec\n",
      "amage . This was the last good news Captain Smith heard that night . Still worr\n",
      "president of the line should know . Captain Smith broke the news about the iceb\n",
      "ously damaged ? ’ A pause , and the captain slowly answered , ‘ I ’ m afraid sh\n",
      "rom his blueprints only when he got Captain Smith ’ s message that he was neede\n",
      " . In a few minutes Andrews and the captain were making their own tour – down t\n",
      "to starboard . Nearby , Andrews and Captain Smith did some fast figuring . Wate\n",
      "tion in 1911 , pointing out , ‘ The captain may , by simply moving an electric \n",
      "d to face , and especially hard for Captain Smith . Over fifty-nine years old ,\n",
      "after that bumping , grinding jar – Captain Smith ordered Chief Officer Wilde t\n",
      "ller and Third Officer Pitman . The captain himself then walked about twenty ya\n",
      "ardly behind the green curtain when Captain Smith appeared : ‘ We ’ ve struck a\n",
      "was back in the room . He asked the captain whether to use the regulation distr\n",
      "However , as a matter of form , the captain has ordered all ladies on deck. ’ A\n",
      "if you don ’ t have to use them , ’ Captain Smith cheerfully explained to Mrs A\n",
      "he bridge , where he dimly made out Captain Smith and First Officer Murdoch . T\n"
     ]
    }
   ],
   "source": [
    "# A Night to Remember - concordance of \"captain\"\n",
    "text_antr.concordance('captain')"
   ]
  },
  {
   "cell_type": "markdown",
   "id": "3c790b41",
   "metadata": {},
   "source": [
    "As it is possible to see in the above concordance of \"captain\" in both texts. In **\"The Wreck of the Titan**, the captain is never named, while in **\"A Night to Remember\"** the title of the captain is often followed by the surname \"Smith\" and that is the surname of the Titanic's captain, Edward John Smith, a real, historical figure."
   ]
  },
  {
   "cell_type": "markdown",
   "id": "7a7dc07a",
   "metadata": {},
   "source": [
    "<img src = 'https://upload.wikimedia.org/wikipedia/commons/c/cd/Edward_J._Smith.jpg' width=\"20%\">"
   ]
  },
  {
   "cell_type": "code",
   "execution_count": 210,
   "id": "06a94c6f",
   "metadata": {},
   "outputs": [
    {
     "name": "stdout",
     "output_type": "stream",
     "text": [
      "Displaying 6 of 6 matches:\n",
      " curious fact : in 1898 one Morgan Robertson wrote a novel about a fabulous lin\n",
      "8 a struggling author named Morgan Robertson concocted a novel about a fabulous\n",
      "han any that had ever been built . Robertson loaded his ship with rich and comp\n",
      "steamer remarkably like the one in Robertson ’ s novel . The new liner was 66,0\n",
      "ner was 66,000 tons displacement ; Robertson ’ s was 70,000 tons . The real shi\n",
      " went down on a cold April night . Robertson called his ship the Titan ; the Wh\n"
     ]
    }
   ],
   "source": [
    "# A Night to Remember - concordance of \"Robertson\"\n",
    "text_antr.concordance('Robertson')"
   ]
  },
  {
   "cell_type": "markdown",
   "id": "780a5a7b",
   "metadata": {},
   "source": [
    "Walter Lord in **\"A Night to Remember\"** mentioned Morgan Robertson and his novel **\"The Wreck on the Titan\"**. It is showed in the above concordance."
   ]
  },
  {
   "cell_type": "markdown",
   "id": "7f9408e0",
   "metadata": {},
   "source": [
    "### Lexical Dispersion"
   ]
  },
  {
   "cell_type": "code",
   "execution_count": 228,
   "id": "eb235640",
   "metadata": {},
   "outputs": [
    {
     "data": {
      "image/png": "[encoded data removed]",
      "text/plain": [
       "<Figure size 432x288 with 1 Axes>"
      ]
     },
     "metadata": {},
     "output_type": "display_data"
    }
   ],
   "source": [
    "# The Wreck of the Titan\n",
    "\n",
    "t_text.dispersion_plot([\"ship\", \"captain\", \"deck\", \"titan\", \"denman\", \"rowland\"])"
   ]
  },
  {
   "cell_type": "code",
   "execution_count": 229,
   "id": "4ac277b1",
   "metadata": {},
   "outputs": [
    {
     "data": {
      "image/png": "[encoded data removed]",
      "text/plain": [
       "<Figure size 432x288 with 1 Axes>"
      ]
     },
     "metadata": {},
     "output_type": "display_data"
    }
   ],
   "source": [
    "# A Night to Remember\n",
    "\n",
    "a_text.dispersion_plot([\"ship\", \"captain\", \"deck\", \"titanic\", \"officer\", \"iceberg\", \"lifeboat\"])"
   ]
  },
  {
   "cell_type": "markdown",
   "id": "6484c9c6",
   "metadata": {},
   "source": [
    "According to lexical dispersion in **\"A Night to Remember\"**, \"ship\", \"captain\" and \"Titanic\" were mentioned often throughout the entire book. In **\"The Wreck of the Titan\"**, mentions of \"ship\" and \"captain\" are accumulated at the beginning and the end of the novella. The name of the ship, the \"Titan\", is mentioned at the beginning and do not appear much in the later part of the story, which shows that the text changes its focus. The Titan sinks in the first part of the novella and from then on, the story takes place on land. It is interesting to see the dispersion of characters' names, at first Rowland was the main character and he was switched with Denman in the later part."
   ]
  },
  {
   "cell_type": "markdown",
   "id": "c383c516",
   "metadata": {},
   "source": [
    "### POS Tagging"
   ]
  },
  {
   "cell_type": "code",
   "execution_count": 232,
   "id": "7c4296c2",
   "metadata": {},
   "outputs": [],
   "source": [
    "#The Wreck of the Titan\n",
    "\n",
    "pos_titan = nltk.pos_tag(t_titan)"
   ]
  },
  {
   "cell_type": "code",
   "execution_count": 233,
   "id": "331695a8",
   "metadata": {},
   "outputs": [],
   "source": [
    "titan_v = [x for (x,y) in pos_titan if y in ('VBD','VBN','VBG','VBP')] \n",
    "titan_n = [x for (x,y) in pos_titan if y in ('NN','NNP','NNS')] \n",
    "\n",
    "punc = '''~`!@#$%^&*()_-+={}[];:'\"<>,./?\\|’‘–…'''\n",
    "\n",
    "def remove_punc(lis):\n",
    "    for ele in lis:\n",
    "        if ele in punc:\n",
    "            lis.remove(ele)\n",
    "            \n",
    "remove_punc(titan_v)\n",
    "remove_punc(titan_n)\n",
    "        \n",
    "titan_vf = nltk.FreqDist(titan_v)\n",
    "titan_nf = nltk.FreqDist(titan_n)"
   ]
  },
  {
   "cell_type": "code",
   "execution_count": 234,
   "id": "a35306ae",
   "metadata": {},
   "outputs": [],
   "source": [
    "# A Night to Remember\n",
    "\n",
    "pos_antr = nltk.pos_tag(text_antr)"
   ]
  },
  {
   "cell_type": "code",
   "execution_count": 235,
   "id": "fee65cd3",
   "metadata": {},
   "outputs": [],
   "source": [
    "antr_v = [x for (x,y) in pos_antr if y in ('VBD','VBN','VBG','VBP')] \n",
    "antr_n = [x for (x,y) in pos_antr if y in ('NN','NNP','NNS')] \n",
    "\n",
    "punc = '''~`!@#$%^&*()_-+={}[];:'\"<>,./?\\|’‘–…'''\n",
    "\n",
    "def remove_punc(lis):\n",
    "    for ele in lis:\n",
    "        if ele in punc:\n",
    "            lis.remove(ele)\n",
    "            \n",
    "remove_punc(antr_v)\n",
    "remove_punc(antr_n)\n",
    "\n",
    "antr_vf = nltk.FreqDist(antr_v)\n",
    "antr_nf = nltk.FreqDist(antr_n)"
   ]
  },
  {
   "cell_type": "code",
   "execution_count": 236,
   "id": "47780c3a",
   "metadata": {},
   "outputs": [
    {
     "name": "stdout",
     "output_type": "stream",
     "text": [
      "[('was', 713), ('had', 459), ('said', 317), ('were', 244), ('are', 191), ('ll', 175), ('came', 126), ('went', 126), ('have', 125), ('did', 114), ('answered', 110), ('do', 99), ('s', 93), ('been', 89), ('ve', 84), ('asked', 83), ('found', 77), ('know', 76), ('re', 73), ('made', 67)]\n"
     ]
    }
   ],
   "source": [
    "# The Wreck of the Titan - Verbs\n",
    "mnt = titan_vf.most_common(20)\n",
    "print(mnt)"
   ]
  },
  {
   "cell_type": "code",
   "execution_count": 237,
   "id": "e581e4f9",
   "metadata": {},
   "outputs": [
    {
     "name": "stdout",
     "output_type": "stream",
     "text": [
      "[('was', 887), ('were', 320), ('had', 317), ('s', 105), ('been', 78), ('seemed', 71), ('came', 68), ('told', 66), ('went', 64), ('took', 60), ('asked', 56), ('saw', 55), ('said', 54), ('have', 47), ('looked', 46), ('are', 45), ('called', 44), ('felt', 44), ('did', 42), ('stood', 40)]\n"
     ]
    }
   ],
   "source": [
    "# A Night to Remember - Verbs\n",
    "mna = antr_vf.most_common(20)\n",
    "\n",
    "print(mna)"
   ]
  },
  {
   "cell_type": "code",
   "execution_count": 238,
   "id": "dc943a67",
   "metadata": {},
   "outputs": [
    {
     "data": {
      "image/png": "[encoded data removed]",
      "text/plain": [
       "<Figure size 432x288 with 1 Axes>"
      ]
     },
     "metadata": {},
     "output_type": "display_data"
    }
   ],
   "source": [
    "import matplotlib.pyplot as plt\n",
    "\n",
    "labels = ['was','were','had','said','are','came','went','been','have','did','asked']\n",
    "twot_v = [713,244,459,317,191,126,126,89,125,114,83]\n",
    "antr_v = [887,320,317,54,45,68,64,78,47,42,56]\n",
    "\n",
    "x = np.arange(len(labels))\n",
    "width = 0.2\n",
    "\n",
    "fig, ax = plt.subplots()\n",
    "rects1 = ax.bar(x - width/2, twot_v, width, label='The Wreck of the Titan', color='green')\n",
    "rects2 = ax.bar(x + width/2, antr_v, width, label='A Night to Remember', color='red')\n",
    "\n",
    "ax.set_ylabel('Frequency')\n",
    "ax.set_xlabel('Verb')\n",
    "ax.set_title('Frequency of verbs')\n",
    "ax.set_xticks([0,1,2,3,4,5,6,7,8,9,10])\n",
    "ax.set_xticklabels(labels)\n",
    "ax.legend()\n",
    "\n",
    "fig.tight_layout()\n",
    "\n",
    "plt.minorticks_on()\n",
    "\n",
    "plt.show()"
   ]
  },
  {
   "cell_type": "markdown",
   "id": "4a1b7560",
   "metadata": {},
   "source": [
    "In **\"A Night to Remember\"**, there are more words related to seeing which are absent in the list of the most frequent verbs of **\"The Wreck of the Titan\"**: seemed, saw, looked. It is probably due to the effort of relaying the real witness' accounts."
   ]
  },
  {
   "cell_type": "code",
   "execution_count": 239,
   "id": "f05179d5",
   "metadata": {},
   "outputs": [
    {
     "name": "stdout",
     "output_type": "stream",
     "text": [
      "[('Denman', 340), ('Forsythe', 242), ('deck', 204), ('man', 201), ('Jenkins', 178), ('boat', 173), ('s', 152), ('Florrie', 126), ('Rowland', 124), ('Mr', 123), ('Sampson', 121), ('men', 114), ('room', 113), ('face', 108), ('door', 88), ('time', 85), ('Project', 84), ('Gutenberg', 84), ('bridge', 82), ('ship', 81)]\n"
     ]
    }
   ],
   "source": [
    "# The Wreck of the Titan - Nouns\n",
    "\n",
    "print(titan_nf.most_common(20))"
   ]
  },
  {
   "cell_type": "code",
   "execution_count": 240,
   "id": "50bd3e01",
   "metadata": {
    "scrolled": true
   },
   "outputs": [
    {
     "name": "stdout",
     "output_type": "stream",
     "text": [
      "[('boat', 253), ('deck', 242), ('Titanic', 184), ('Mrs', 172), ('t', 152), ('ship', 149), ('No', 142), ('time', 124), ('men', 117), ('s', 107), ('passengers', 96), ('water', 93), ('man', 90), ('people', 89), ('night', 87), ('way', 87), ('boats', 86), ('Mr', 82), ('Smith', 75), ('Carpathia', 71)]\n"
     ]
    }
   ],
   "source": [
    "# A Night to Remember - Nouns\n",
    "\n",
    "print(antr_nf.most_common(20))"
   ]
  },
  {
   "cell_type": "code",
   "execution_count": 260,
   "id": "2bd0fd81",
   "metadata": {},
   "outputs": [
    {
     "data": {
      "image/png": "[encoded data removed]",
      "text/plain": [
       "<Figure size 432x288 with 1 Axes>"
      ]
     },
     "metadata": {},
     "output_type": "display_data"
    }
   ],
   "source": [
    "import matplotlib.pyplot as plt\n",
    "\n",
    "labels = ['deck','man','men','boat(s)','time','ship','Mr']\n",
    "twot_n = [204,201,114,173,85,81,123]\n",
    "antr_n = [242,90,117,(253+86),124,149,82]\n",
    "    \n",
    "x = np.arange(len(labels))\n",
    "width = 0.2\n",
    "\n",
    "fig, ax = plt.subplots()\n",
    "rects1 = ax.bar(x - width/2, twot_n, width, label='The Wreck of the Titan', color='green')\n",
    "rects2 = ax.bar(x + width/2, antr_n, width, label='A Night to Remember', color='red')\n",
    "\n",
    "ax.set_ylabel('Frequency')\n",
    "ax.set_xlabel('Noun')\n",
    "ax.set_title('Frequency of nouns')\n",
    "ax.set_xticks([0,1,2,3,4,5,6])\n",
    "ax.set_xticklabels(labels)\n",
    "ax.legend()\n",
    "\n",
    "fig.tight_layout()\n",
    "\n",
    "plt.minorticks_on()\n",
    "\n",
    "plt.show()"
   ]
  },
  {
   "cell_type": "markdown",
   "id": "6fd368f4",
   "metadata": {},
   "source": [
    "Most frequent in **\"The Wreck of the Titan\"** are the names of the characters. In **\"A Night to Remember\"**, nouns are more related to ship and passengers, the name of the captain \"Smith\" and the ship which rescued the survivors \"Carpathia\" also made it onto this list."
   ]
  },
  {
   "cell_type": "markdown",
   "id": "9507468e",
   "metadata": {},
   "source": [
    "### Entity Recognition"
   ]
  },
  {
   "cell_type": "markdown",
   "id": "acbaf3cb",
   "metadata": {},
   "source": [
    "The entity recognition was possible by using the *spacy* package. The data was turned into charts: two pie charts for each text and a grouped bar chart for more efficient comparison."
   ]
  },
  {
   "cell_type": "code",
   "execution_count": 242,
   "id": "1e4c6316",
   "metadata": {},
   "outputs": [],
   "source": [
    "# The Wreck of the Titan\n",
    "\n",
    "import spacy\n",
    "from spacy import displacy\n",
    "from collections import Counter\n",
    "import en_core_web_sm\n",
    "import pprint\n",
    "from pprint import pprint\n",
    "\n",
    "nlp = en_core_web_sm.load()\n",
    "\n",
    "titan_doc = nlp(titan_text)\n",
    "#pprint([(X.text, X.label_) for X in titan_doc.ents])"
   ]
  },
  {
   "cell_type": "code",
   "execution_count": 253,
   "id": "24eb5af1",
   "metadata": {},
   "outputs": [
    {
     "data": {
      "text/plain": [
       "2733"
      ]
     },
     "execution_count": 253,
     "metadata": {},
     "output_type": "execute_result"
    }
   ],
   "source": [
    "from bs4 import BeautifulSoup\n",
    "import requests\n",
    "import re\n",
    "def url_to_string(url):\n",
    "    titan_res = requests.get(url)\n",
    "    titan_html = titan_res.text\n",
    "    titan_soup = BeautifulSoup(titan_html, 'html5lib')\n",
    "    for script in titan_soup([\"script\", \"style\", 'aside']):\n",
    "        script.extract()\n",
    "    return \" \".join(re.split(r'[\\n\\t]+', titan_soup.get_text()))\n",
    "titan_ny_bb = url_to_string(url_titan)\n",
    "titan_n = nlp(titan_ny_bb)\n",
    "len(titan_n.ents)"
   ]
  },
  {
   "cell_type": "code",
   "execution_count": 254,
   "id": "b7ce50b2",
   "metadata": {},
   "outputs": [],
   "source": [
    "#pprint([(X, X.ent_iob_, X.ent_type_) for X in titan_doc])"
   ]
  },
  {
   "cell_type": "code",
   "execution_count": 255,
   "id": "e72a730d",
   "metadata": {
    "scrolled": true
   },
   "outputs": [],
   "source": [
    "# A Night to Remember\n",
    "\n",
    "import spacy\n",
    "from spacy import displacy\n",
    "from collections import Counter\n",
    "import en_core_web_sm\n",
    "import pprint\n",
    "from pprint import pprint\n",
    "\n",
    "a_nlp = en_core_web_sm.load()\n",
    "\n",
    "a_doc = nlp(antr)\n",
    "#pprint([(X.text, X.label_) for X in a_doc.ents])"
   ]
  },
  {
   "cell_type": "code",
   "execution_count": 256,
   "id": "a115e977",
   "metadata": {},
   "outputs": [
    {
     "data": {
      "text/plain": [
       "3324"
      ]
     },
     "execution_count": 256,
     "metadata": {},
     "output_type": "execute_result"
    }
   ],
   "source": [
    "len(a_doc.ents)"
   ]
  },
  {
   "cell_type": "code",
   "execution_count": 257,
   "id": "6815f556",
   "metadata": {},
   "outputs": [],
   "source": [
    "#pprint([(X, X.ent_iob_, X.ent_type_) for X in a_doc])"
   ]
  },
  {
   "cell_type": "code",
   "execution_count": 258,
   "id": "1d864a5b",
   "metadata": {},
   "outputs": [
    {
     "data": {
      "text/plain": [
       "Counter({'PERSON': 1151,\n",
       "         'WORK_OF_ART': 29,\n",
       "         'PRODUCT': 7,\n",
       "         'ORG': 317,\n",
       "         'DATE': 135,\n",
       "         'GPE': 191,\n",
       "         'LOC': 24,\n",
       "         'ORDINAL': 105,\n",
       "         'CARDINAL': 464,\n",
       "         'TIME': 152,\n",
       "         'QUANTITY': 65,\n",
       "         'NORP': 52,\n",
       "         'MONEY': 8,\n",
       "         'LAW': 10,\n",
       "         'EVENT': 3,\n",
       "         'FAC': 14,\n",
       "         'LANGUAGE': 5,\n",
       "         'PERCENT': 1})"
      ]
     },
     "execution_count": 258,
     "metadata": {},
     "output_type": "execute_result"
    }
   ],
   "source": [
    "# The Wreck of the Titan\n",
    "\n",
    "labels_titan = [x.label_ for x in titan_n.ents]\n",
    "Counter(labels_titan)"
   ]
  },
  {
   "cell_type": "code",
   "execution_count": 259,
   "id": "81f48722",
   "metadata": {},
   "outputs": [
    {
     "data": {
      "text/plain": [
       "Counter({'GPE': 194,\n",
       "         'EVENT': 7,\n",
       "         'DATE': 177,\n",
       "         'LOC': 45,\n",
       "         'CARDINAL': 645,\n",
       "         'TIME': 174,\n",
       "         'FAC': 12,\n",
       "         'ORDINAL': 239,\n",
       "         'NORP': 120,\n",
       "         'PERSON': 1079,\n",
       "         'ORG': 496,\n",
       "         'WORK_OF_ART': 26,\n",
       "         'QUANTITY': 77,\n",
       "         'MONEY': 14,\n",
       "         'LANGUAGE': 4,\n",
       "         'PRODUCT': 14,\n",
       "         'PERCENT': 1})"
      ]
     },
     "execution_count": 259,
     "metadata": {},
     "output_type": "execute_result"
    }
   ],
   "source": [
    "# A Night to Remember\n",
    "\n",
    "labels = [x.label_ for x in a_doc.ents]\n",
    "Counter(labels)"
   ]
  },
  {
   "cell_type": "code",
   "execution_count": 186,
   "id": "d966fc47",
   "metadata": {},
   "outputs": [
    {
     "data": {
      "image/png": "[encoded data removed]",
      "text/plain": [
       "<Figure size 432x288 with 1 Axes>"
      ]
     },
     "metadata": {},
     "output_type": "display_data"
    }
   ],
   "source": [
    "# The Wreck of the Titan\n",
    "\n",
    "import matplotlib.pyplot as plt\n",
    "\n",
    "Other = 7+8+3+5+1+10+14+29+24+52+65\n",
    "\n",
    "labels = 'PERSON', 'ORG','DATE','GPE','ORDINAL','CARDINAL','TIME','OTHER'\n",
    "sizes = [1151,317,135,191,105,464,152,Other]\n",
    "\n",
    "fig1, ax1 = plt.subplots()\n",
    "ax1.pie(sizes, labels=labels, autopct='%1.1f%%',\n",
    "        shadow=True, startangle=140)\n",
    "ax1.axis('equal')\n",
    "\n",
    "\n",
    "plt.title('Entities in The Wreck of the Titan')\n",
    "\n",
    "plt.show()"
   ]
  },
  {
   "cell_type": "code",
   "execution_count": 187,
   "id": "9e9a8002",
   "metadata": {},
   "outputs": [
    {
     "data": {
      "image/png": "[encoded data removed]",
      "text/plain": [
       "<Figure size 432x288 with 1 Axes>"
      ]
     },
     "metadata": {},
     "output_type": "display_data"
    }
   ],
   "source": [
    "import matplotlib.pyplot as plt\n",
    "\n",
    "\n",
    "O = 7+45+12+26+77+14+4+14+1\n",
    "\n",
    "\n",
    "labels = 'PERSON','ORG','DATE','GPE','ORDINAL','CARDINAL','TIME','NORP','OTHER'\n",
    "sizes = [1079,496,177,194,293,645,174,120,O]\n",
    "\n",
    "fig1, ax1 = plt.subplots()\n",
    "ax1.pie(sizes, labels=labels, autopct='%1.1f%%',\n",
    "        shadow=True, startangle=140)\n",
    "ax1.axis('equal')\n",
    "\n",
    "\n",
    "plt.title('Entities in The Night to Remember')\n",
    "\n",
    "plt.show()"
   ]
  },
  {
   "cell_type": "code",
   "execution_count": 188,
   "id": "b5e447b9",
   "metadata": {
    "scrolled": false
   },
   "outputs": [
    {
     "data": {
      "image/png": "[encoded data removed]",
      "text/plain": [
       "<Figure size 432x288 with 1 Axes>"
      ]
     },
     "metadata": {},
     "output_type": "display_data"
    }
   ],
   "source": [
    "import matplotlib.pyplot as plt\n",
    "import numpy as np\n",
    "\n",
    "labels = ['PERSON','ORG','DATE','GPE','ORDINAL','CARDINAL','TIME','NORP','OTHER']\n",
    "twott = [1151,317,135,191,105,464,152,52,Other]\n",
    "antr_c = [1079,496,177,194,293,645,174,120,O]\n",
    "\n",
    "x = np.arange(len(labels))\n",
    "width = 0.2\n",
    "\n",
    "fig, ax = plt.subplots()\n",
    "rects1 = ax.bar(x - width/2, twott, width, label='The Wreck of the Titan', color='green')\n",
    "rects2 = ax.bar(x + width/2, antr_c, width, label='A Night to Remember', color='red')\n",
    "\n",
    "ax.set_ylabel('Count')\n",
    "ax.set_xlabel('Entity')\n",
    "ax.set_title('Entities in both books')\n",
    "ax.set_xticks([0,1,2,3,4,5,6,7,8])\n",
    "ax.set_xticklabels(labels)\n",
    "ax.legend()\n",
    "\n",
    "fig.tight_layout()\n",
    "\n",
    "plt.minorticks_on()\n",
    "\n",
    "plt.show()"
   ]
  },
  {
   "cell_type": "markdown",
   "id": "b04b436b",
   "metadata": {},
   "source": [
    "In both cases, the entities' arrangement is quite similar, although in **\"The Wreck of the Titan\"**, there are more \"PERSON\" entities and in **\"A Night to Remember\"**, ORG, ORDINAL and CARDINAL are more frequent than in the former text."
   ]
  },
  {
   "cell_type": "markdown",
   "id": "82f6ce39",
   "metadata": {},
   "source": [
    "---"
   ]
  },
  {
   "cell_type": "markdown",
   "id": "0957df13",
   "metadata": {},
   "source": [
    "## Conclusion"
   ]
  },
  {
   "cell_type": "markdown",
   "id": "a18ce9fe",
   "metadata": {},
   "source": [
    "**\"A Night to Remember\"** is literary nonfiction. The author relays real events and the writing of the book was proceeded by extensive research. Looking at the above analysis, it can be seen that the content focuses more on the ship. People are treated as a group, eg. \"passengers\", \"men\" rather than being named. The captain is an exception but as he was the most important person in the crew, it is reasonable.\n",
    "\n",
    "**\"The Wreck of the Titan\"** is a fictional story. As it is seen in the analysis, its focus is put on the characters. Most of them are referred by their names an it is seen in the frequency analysis. The ship and events of the Titan are only part of the plot, a stage for the characters."
   ]
  },
  {
   "cell_type": "markdown",
   "id": "59aabd78",
   "metadata": {},
   "source": [
    "## Packages used"
   ]
  },
  {
   "cell_type": "markdown",
   "id": "109688ed",
   "metadata": {},
   "source": [
    "* BeautifulSoup\n",
    "* requests\n",
    "* pandas\n",
    "* re\n",
    "* nltk\n",
    "* matplotlib\n",
    "* seaborn\n",
    "* spacy\n",
    "* collections\n",
    "* pprint"
   ]
  }
 ],
 "metadata": {
  "kernelspec": {
   "display_name": "Python 3",
   "language": "python",
   "name": "python3"
  },
  "language_info": {
   "codemirror_mode": {
    "name": "ipython",
    "version": 3
   },
   "file_extension": ".py",
   "mimetype": "text/x-python",
   "name": "python",
   "nbconvert_exporter": "python",
   "pygments_lexer": "ipython3",
   "version": "3.8.8"
  },
  "latex_envs": {
   "LaTeX_envs_menu_present": true,
   "autoclose": false,
   "autocomplete": true,
   "bibliofile": "biblio.bib",
   "cite_by": "apalike",
   "current_citInitial": 1,
   "eqLabelWithNumbers": true,
   "eqNumInitial": 1,
   "hotkeys": {
    "equation": "Ctrl-E",
    "itemize": "Ctrl-I"
   },
   "labels_anchors": false,
   "latex_user_defs": false,
   "report_style_numbering": false,
   "user_envs_cfg": false
  }
 },
 "nbformat": 4,
 "nbformat_minor": 5
}
